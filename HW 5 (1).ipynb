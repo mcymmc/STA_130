{
 "cells": [
  {
   "cell_type": "markdown",
   "id": "14335a23",
   "metadata": {},
   "source": [
    "## Pre-Lec"
   ]
  },
  {
   "cell_type": "markdown",
   "id": "d7bbc170",
   "metadata": {},
   "source": [
    "## 1."
   ]
  },
  {
   "cell_type": "markdown",
   "id": "75acb9de",
   "metadata": {},
   "source": [
    "The key factor that decides whether a hypothesis can or cannot be tested is whether there are stats or evidence already existing that can be used for observations and measurements. The video uses the example of comparing two former presidents who have evidence and data of their time in office vs two candidates who don't have time in office and therefore cannot be compared statistically on who is the better president.\n",
    "\n",
    "A good null hypothesis should clearly reflect the default claim that was proposed. It should be based on something that is measurable. So perhaps there are already stats or perhaps these stats can be gathered. In contrast, the alternative hypothesis is measuring everything else that goes against the null hypothesis, so every other case.\n",
    "\n",
    "https://chatgpt.com/share/6707581e-2dc4-8009-b2c5-e56b7ea0887a"
   ]
  },
  {
   "cell_type": "markdown",
   "id": "15b0e27b",
   "metadata": {},
   "source": [
    "# 2."
   ]
  },
  {
   "cell_type": "markdown",
   "id": "362dee49",
   "metadata": {},
   "source": [
    "We need to remember that when we measure a sample of data, we take the $x_i\\!$s (data points) to come up with a $\\bar x$ (mean of the data points) to make conclusions about the entire population. We're not just calculating the $\\bar x$ to know the average of the sample, but we're trying to reach an estimate of the $\\mu$ (mean of the population). By calculating the $\\mu$, we can see how far it is from $\\mu_0$ (which is the value of the population mean that we're testing). If $\\mu$ is far from $\\mu_0$, it suggest that the true population mean might not be the tested population mean. We cannot just use $\\bar x$ to compare it to the $\\mu_0$ because the average of one sample is not enough. we need multiple $\\bar x$s from multiple samples to reach a good estimate for $\\mu$, which we can then use to compare to $\\mu_0$.\n",
    "\n",
    "https://chatgpt.com/share/67089095-55d8-8009-9cab-59cae246a625"
   ]
  },
  {
   "cell_type": "markdown",
   "id": "13cf7cd0",
   "metadata": {},
   "source": [
    "## 3."
   ]
  },
  {
   "cell_type": "markdown",
   "id": "7535fe7a",
   "metadata": {},
   "source": [
    "So we have to imagine a world where the null hypothesis is true right? In this world, where the null hypothesis is true. Now in this world, you will have to imagine what could happen that would make the null hypothesis true. And based on those things that would happen (aka the data and stats in this world), you can calculate how probable any of that is to happen. That calculation is the p-value. The p-value essentially represents how probable our null hypothesis is to being true. The lower the p value, less probable the null hypothesis is to be true, and the higher the p value, the more probable the null hypothesis is true."
   ]
  },
  {
   "cell_type": "markdown",
   "id": "319a9899",
   "metadata": {},
   "source": [
    "## 4."
   ]
  },
  {
   "cell_type": "markdown",
   "id": "c89e7a7c",
   "metadata": {},
   "source": [
    "The p-value represents how probable it is for the null hypothesis to be true. To clarify, the null hypothesis is the default claim which we are testing. So when we calculate the p value, we like to imagine a world where we assume the null hypothesis is true, and then we evaluate data in that world such that the null is true. When the p value is very small, it suggests that something very unlikely happened (in this world that we imagined), which further suggests that the null hypothesis itself is unlikely to be true.\n",
    "\n",
    "https://chatgpt.com/share/67089095-55d8-8009-9cab-59cae246a625"
   ]
  },
  {
   "cell_type": "markdown",
   "id": "c801d3e9",
   "metadata": {},
   "source": [
    "## 5."
   ]
  },
  {
   "cell_type": "markdown",
   "id": "9976cd91",
   "metadata": {},
   "source": [
    "So I conducted 124 coin flips, with 66 heads and 58 tails. They are quite close to being 50/50. ChatGPT calculated that 66 heads is roughly 53.2% of 124. So now we calculate the p value to get 0.00078. The p value is less or equal to 0.001 which strongly suggests that the evidence collected goes against the null hypothesis, which is that head tilting is random). I only did the 124 coin flip test once, but if we want a more accurate number, we can run the test multiple times, although I dont think the p value will increase enough such that the evidence will suggest anythign different.\n",
    "\n",
    "https://chatgpt.com/share/67089095-55d8-8009-9cab-59cae246a625"
   ]
  },
  {
   "cell_type": "markdown",
   "id": "c80d6528",
   "metadata": {},
   "source": [
    "## Post-Lec"
   ]
  },
  {
   "cell_type": "markdown",
   "id": "1f540364",
   "metadata": {},
   "source": [
    "## 6."
   ]
  },
  {
   "cell_type": "markdown",
   "id": "1a14e4a4",
   "metadata": {},
   "source": [
    "No, we cannot definitively prove that the null hypothesis is false, no matter how small the p value may be. The p value is always a positive number. Even when the p value is incredibly small, that it may seem like it's not worth considering the possibility of the null hypothesis being false, it is still ***possible***. We would simply say that we can reject that the null hypothesis is false, but never say we have proven it is false. \n",
    "\n",
    "The same idea goes for when proving Fido is innocent. There is no p-value or threshold that suggests Fido is innocent beyond doubt. Even when the p-value is super high, is it once again still possible that the null is true."
   ]
  },
  {
   "cell_type": "markdown",
   "id": "3ea6a93b",
   "metadata": {},
   "source": [
    "## 7."
   ]
  },
  {
   "cell_type": "markdown",
   "id": "2c3f1be4",
   "metadata": {},
   "source": [
    "In the original version, we're checking for both negative and positive values from the null. So in the case of the vaccines, we're looking at both test scores that experience an increase and decrease. We want to change it to a one tailed test which only looks at one side. So we want to see if the vaccine improves one's health, which means we only want to see test scores that experience an increase."
   ]
  },
  {
   "cell_type": "code",
   "execution_count": null,
   "id": "a6d85ecd",
   "metadata": {},
   "outputs": [],
   "source": [
    "#So the code changes from \n",
    "SimTestStats_as_or_more_extreme_than_ObsTestStat = \\\n",
    "    abs(simulated_test_statistics - population_parameter_value_under_H0) >= \\\n",
    "    abs(observed_test_statistic - population_parameter_value_under_H0)\n",
    "#into\n",
    "SimTestStats_as_or_more_extreme_than_ObsTestStat = \\\n",
    "    simulated_test_statistics >= observed_test_statistic\n",
    "\n",
    "#We only care about test scores greater or equal the observed_test_statistic.\n"
   ]
  },
  {
   "cell_type": "markdown",
   "id": "d056316b",
   "metadata": {},
   "source": [
    "In a one tailed test, we only care about values that are on one direction. Since we're only considering outcomes that support the observed hypothesis, we're only getting smaller p values as it goes against the null hypothesis.\n",
    "\n",
    "https://chatgpt.com/share/670f3945-98ac-8009-860a-07437b102fe9"
   ]
  },
  {
   "cell_type": "code",
   "execution_count": null,
   "id": "23718c3b",
   "metadata": {},
   "outputs": [],
   "source": []
  },
  {
   "cell_type": "markdown",
   "id": "e5a59e4b",
   "metadata": {},
   "source": [
    "## 9. no\n",
    "\n",
    "https://chatgpt.com/share/670899df-18bc-8009-9d1f-2212185e105a"
   ]
  },
  {
   "cell_type": "code",
   "execution_count": null,
   "id": "b748b560",
   "metadata": {},
   "outputs": [],
   "source": []
  }
 ],
 "metadata": {
  "kernelspec": {
   "display_name": "Python 3 (ipykernel)",
   "language": "python",
   "name": "python3"
  },
  "language_info": {
   "codemirror_mode": {
    "name": "ipython",
    "version": 3
   },
   "file_extension": ".py",
   "mimetype": "text/x-python",
   "name": "python",
   "nbconvert_exporter": "python",
   "pygments_lexer": "ipython3",
   "version": "3.11.6"
  }
 },
 "nbformat": 4,
 "nbformat_minor": 5
}
