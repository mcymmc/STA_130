{
 "cells": [
  {
   "cell_type": "markdown",
   "id": "0db2aea1",
   "metadata": {},
   "source": [
    "# Proposal 1:"
   ]
  },
  {
   "cell_type": "markdown",
   "id": "938e7935",
   "metadata": {},
   "source": [
    "**Proposal:** How does satisfaction with one's neighborhood affect mental health outcomes. \n",
    "\n",
    "**Objective:** To explore how satisfaction with neighborhoods influences mental health outcomes, focusing specifically on social connectedness within the household and community. I aim to determine whether a supportive environment can improve one's mental health and reduce lonelines.\n",
    "\n",
    "\n",
    "When I say neighbors, I will consider out of home neighbors and close neighbors (household members, roommates, dormmates etc). I can use variables from the GEO_robinson_neighbourhood_cohesion_scale category to record if the person feels a sense of belonging to their neighborhood and if it has an affect on their satisfaction with their social connectedness. I also plan to analyze different people living with different households. I will use the GEO_housing_live_with category to view this.\n",
    "\n",
    "I also plan to look at neighborhood amenities/programs. I'll compare those who do have amenities/programs (the ones worth looking at which I'll decide later on) to those who don't. I can analyze people's satisfaction with amenities or community programs (for those who have them) with social connectedness. I can use variables of the GEO_canadian_housing_satisfaction_scale category. For example, people who are highly satisfied with nearby amenities will probably be more likely to be going out and using these amenities/programs which I can then see if it correlates to other variables such as how often one is spending time outside or with other people etc. \n",
    "\n",
    "\n",
    "**Expectations:** The analysis is expected to show that higher satisfaction with neighborhood amenities are linked to lower levels of loneliness and improved mental health. I expect that those who report high satisfaction might also report more social interactions and greater well-being overall.\n",
    "\n",
    "**Relevance:** These findings can help understand factors contributing to loneliness in different living environments. If my study shows strong correlation between neighborhood satisfaction and mental health, it would highlight the importance of urban planning and implementing community programs. "
   ]
  },
  {
   "cell_type": "markdown",
   "id": "cb1660e4",
   "metadata": {},
   "source": [
    "# Proposal 2:"
   ]
  },
  {
   "cell_type": "markdown",
   "id": "aec4a01c",
   "metadata": {},
   "source": [
    "**Proposal:** The impact of economic stability on mental health and social connectivity.\n",
    "\n",
    "**Objective:** To examine how economic stability including factors such as income level and financial satisfaction/goals correlates with mental health outcomes and social connectivity. I aim to determine whether individuals with higher economic stability report better mental health scores. I also would like to see if people who perhaps have low income but are satisfied with their current financial situation still report highly based on mental health. \n",
    "\n",
    "I would analyze variables such as DEMO_employment to determine employment. I would also like to look at age groups as I expect people who are older without jobs or higher financial struggle would struggle more to make social connections as they are potentially more independant on themselves and would be more stressed whereas younger people could be less worried.\n",
    "\n",
    "\n",
    "**Expectations:** I expect people with higher stability, measured through income levels, financial satisfaction, and confidence in financial future will report between mental health outcomes. I think those who have financial security, deal with less stress and are enabled to engage more in meaningful social activities.\n",
    "\n",
    "**Relevance:** Understanding the link between economic stability and social connectivity can provide insights in how financial situations have an impact in one's ability to form meaningful relationships, which ultimately affects their mental well being. By recognizing the importance of economic stability, potential interventions could be done to support those who struggle financially."
   ]
  },
  {
   "cell_type": "markdown",
   "id": "97f38462",
   "metadata": {},
   "source": [
    "# Proposal 3:"
   ]
  },
  {
   "cell_type": "markdown",
   "id": "eac0f138",
   "metadata": {},
   "source": [
    "**Proposal:** The Impact of Occupational Status on Mental Health and Social Connectivity\n",
    "\n",
    "**Objective:** To explore the impact of occupational status and community involvement on social connectivity and mental health, both during and post-quarantine.\n",
    "\n",
    "We can use variables such as demo_student or demo_employment and etc to determine occupations. We aim to analyze whether belonging to a community correlates with better social connectivity compared to those who lack a proper social setting such as those unemployed or unable to work. Additionally I'd like to compare these groups mental health scores during and after covid periods to see if the things like quarantine had a significant impact. This could suggest whether the communities really do affect individual's mental health. I can also use variables such as WORK_enough_effort to see if companies are making an effort to connect those who are employed and to see if they're effective or not. I also want to see if those who belonged in a community recorded higher mental health scores during quarantine vs those who didn't belong to one. Perhaps those who did have a community were able to stay in touch and stay connected during quarantine while those who didn't belong to a community were left more and more in the dark.\n",
    "\n",
    "**Expectations:** I expect that individuals who belong to a daily community setting will record better mental health outcomes compared to those who do not. Additionally, during quarantine, I expect a noticeable decline in mental health (related to social connectivity) for those whose community was disrupted.\n",
    "\n",
    "**Relevance:** This will provide insight into the role of occupational and community involvement in mental health, which highlights the importance of maintaining social connections and environments. It also shows the importance of belonging in an active community. "
   ]
  }
 ],
 "metadata": {
  "kernelspec": {
   "display_name": "Python 3 (ipykernel)",
   "language": "python",
   "name": "python3"
  },
  "language_info": {
   "codemirror_mode": {
    "name": "ipython",
    "version": 3
   },
   "file_extension": ".py",
   "mimetype": "text/x-python",
   "name": "python",
   "nbconvert_exporter": "python",
   "pygments_lexer": "ipython3",
   "version": "3.11.6"
  }
 },
 "nbformat": 4,
 "nbformat_minor": 5
}
